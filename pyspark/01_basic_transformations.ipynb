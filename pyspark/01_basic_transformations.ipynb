{
  "nbformat": 4,
  "nbformat_minor": 0,
  "metadata": {
    "colab": {
      "provenance": []
    },
    "kernelspec": {
      "name": "python3",
      "display_name": "Python 3"
    },
    "language_info": {
      "name": "python"
    }
  },
  "cells": [
    {
      "cell_type": "markdown",
      "source": [
        "# Install pedendencies"
      ],
      "metadata": {
        "id": "rY0R8ZEOVOKG"
      }
    },
    {
      "cell_type": "code",
      "execution_count": 1,
      "metadata": {
        "id": "NnWP3RvAOQ9i"
      },
      "outputs": [],
      "source": [
        "\n",
        "!apt-get install openjdk-8-jdk-headless -qq > /dev/null\n",
        "!wget -q http://archive.apache.org/dist/spark/spark-3.1.1/spark-3.1.1-bin-hadoop3.2.tgz\n",
        "!tar xf spark-3.1.1-bin-hadoop3.2.tgz\n",
        "!pip install -q findspark\n"
      ]
    },
    {
      "cell_type": "markdown",
      "source": [
        "# Define enviroment variables"
      ],
      "metadata": {
        "id": "jF3OQS-ZVUul"
      }
    },
    {
      "cell_type": "code",
      "source": [
        "import os\n",
        "os.environ[\"JAVA_HOME\"] = \"/usr/lib/jvm/java-8-openjdk-amd64\"\n",
        "os.environ[\"SPARK_HOME\"] = \"/content/spark-3.1.1-bin-hadoop3.2\""
      ],
      "metadata": {
        "id": "Yo9AE5moVZcO"
      },
      "execution_count": 2,
      "outputs": []
    },
    {
      "cell_type": "code",
      "source": [
        "! pip install pyspark"
      ],
      "metadata": {
        "colab": {
          "base_uri": "https://localhost:8080/"
        },
        "id": "h2zN9-IkVcHn",
        "outputId": "ead5e2d1-6825-4a46-f0ff-2e1d9f68e4a6"
      },
      "execution_count": 3,
      "outputs": [
        {
          "output_type": "stream",
          "name": "stdout",
          "text": [
            "Collecting pyspark\n",
            "  Downloading pyspark-3.4.1.tar.gz (310.8 MB)\n",
            "\u001b[2K     \u001b[90m━━━━━━━━━━━━━━━━━━━━━━━━━━━━━━━━━━━━━━━\u001b[0m \u001b[32m310.8/310.8 MB\u001b[0m \u001b[31m1.8 MB/s\u001b[0m eta \u001b[36m0:00:00\u001b[0m\n",
            "\u001b[?25h  Preparing metadata (setup.py) ... \u001b[?25l\u001b[?25hdone\n",
            "Requirement already satisfied: py4j==0.10.9.7 in /usr/local/lib/python3.10/dist-packages (from pyspark) (0.10.9.7)\n",
            "Building wheels for collected packages: pyspark\n",
            "  Building wheel for pyspark (setup.py) ... \u001b[?25l\u001b[?25hdone\n",
            "  Created wheel for pyspark: filename=pyspark-3.4.1-py2.py3-none-any.whl size=311285388 sha256=bd7b9f9bbfcdaf36b8651743cd7bb56ccdc87ff723803a33ad036c1bfcf7528e\n",
            "  Stored in directory: /root/.cache/pip/wheels/0d/77/a3/ff2f74cc9ab41f8f594dabf0579c2a7c6de920d584206e0834\n",
            "Successfully built pyspark\n",
            "Installing collected packages: pyspark\n",
            "Successfully installed pyspark-3.4.1\n"
          ]
        }
      ]
    },
    {
      "cell_type": "code",
      "source": [
        "import findspark\n",
        "findspark.init()\n",
        "from pyspark.sql import SparkSession\n",
        "spark = SparkSession.builder.master(\"local[*]\").getOrCreate()\n",
        "spark.conf.set(\"spark.sql.repl.eagerEval.enabled\", True) # Property used to format output tables better\n",
        "spark"
      ],
      "metadata": {
        "colab": {
          "base_uri": "https://localhost:8080/",
          "height": 219
        },
        "id": "KdHRef-qVe_T",
        "outputId": "12b29616-dd79-4848-fea6-27f753cd24ea"
      },
      "execution_count": 4,
      "outputs": [
        {
          "output_type": "execute_result",
          "data": {
            "text/plain": [
              "<pyspark.sql.session.SparkSession at 0x7e7c11fd7490>"
            ],
            "text/html": [
              "\n",
              "            <div>\n",
              "                <p><b>SparkSession - in-memory</b></p>\n",
              "                \n",
              "        <div>\n",
              "            <p><b>SparkContext</b></p>\n",
              "\n",
              "            <p><a href=\"http://1d753a3cd87b:4040\">Spark UI</a></p>\n",
              "\n",
              "            <dl>\n",
              "              <dt>Version</dt>\n",
              "                <dd><code>v3.1.1</code></dd>\n",
              "              <dt>Master</dt>\n",
              "                <dd><code>local[*]</code></dd>\n",
              "              <dt>AppName</dt>\n",
              "                <dd><code>pyspark-shell</code></dd>\n",
              "            </dl>\n",
              "        </div>\n",
              "        \n",
              "            </div>\n",
              "        "
            ]
          },
          "metadata": {},
          "execution_count": 4
        }
      ]
    },
    {
      "cell_type": "code",
      "source": [
        "from google.colab import drive\n",
        "drive.mount('/content/drive')"
      ],
      "metadata": {
        "colab": {
          "base_uri": "https://localhost:8080/"
        },
        "id": "O466OHbBVhE2",
        "outputId": "18d5f636-d09a-4d67-bc79-7f6e53be0646"
      },
      "execution_count": 5,
      "outputs": [
        {
          "output_type": "stream",
          "name": "stdout",
          "text": [
            "Mounted at /content/drive\n"
          ]
        }
      ]
    },
    {
      "cell_type": "code",
      "source": [
        "base_dir = '/content/drive/MyDrive/retail_db'"
      ],
      "metadata": {
        "id": "XjzF7yKDV9GO"
      },
      "execution_count": 6,
      "outputs": []
    },
    {
      "cell_type": "code",
      "source": [
        "# Leyendo csv, y definiendo el tipo de datos y el nombre de columnas con el comando schema\n",
        "df = spark.read.csv(f'{base_dir}/orders', schema='order_id INT, order_date DATE, order_customer_id INT, order_status STRING')\n"
      ],
      "metadata": {
        "id": "OHbfoze1VsFh"
      },
      "execution_count": 7,
      "outputs": []
    },
    {
      "cell_type": "code",
      "source": [
        "df"
      ],
      "metadata": {
        "colab": {
          "base_uri": "https://localhost:8080/",
          "height": 529
        },
        "id": "7YPDuqlTWXP1",
        "outputId": "c2203d4d-5c41-477f-b439-807a9c545453"
      },
      "execution_count": null,
      "outputs": [
        {
          "output_type": "execute_result",
          "data": {
            "text/plain": [
              "+--------+----------+-----------------+---------------+\n",
              "|order_id|order_date|order_customer_id|   order_status|\n",
              "+--------+----------+-----------------+---------------+\n",
              "|       1|2013-07-25|            11599|         CLOSED|\n",
              "|       2|2013-07-25|              256|PENDING_PAYMENT|\n",
              "|       3|2013-07-25|            12111|       COMPLETE|\n",
              "|       4|2013-07-25|             8827|         CLOSED|\n",
              "|       5|2013-07-25|            11318|       COMPLETE|\n",
              "|       6|2013-07-25|             7130|       COMPLETE|\n",
              "|       7|2013-07-25|             4530|       COMPLETE|\n",
              "|       8|2013-07-25|             2911|     PROCESSING|\n",
              "|       9|2013-07-25|             5657|PENDING_PAYMENT|\n",
              "|      10|2013-07-25|             5648|PENDING_PAYMENT|\n",
              "|      11|2013-07-25|              918| PAYMENT_REVIEW|\n",
              "|      12|2013-07-25|             1837|         CLOSED|\n",
              "|      13|2013-07-25|             9149|PENDING_PAYMENT|\n",
              "|      14|2013-07-25|             9842|     PROCESSING|\n",
              "|      15|2013-07-25|             2568|       COMPLETE|\n",
              "|      16|2013-07-25|             7276|PENDING_PAYMENT|\n",
              "|      17|2013-07-25|             2667|       COMPLETE|\n",
              "|      18|2013-07-25|             1205|         CLOSED|\n",
              "|      19|2013-07-25|             9488|PENDING_PAYMENT|\n",
              "|      20|2013-07-25|             9198|     PROCESSING|\n",
              "+--------+----------+-----------------+---------------+\n",
              "only showing top 20 rows"
            ],
            "text/html": [
              "<table border='1'>\n",
              "<tr><th>order_id</th><th>order_date</th><th>order_customer_id</th><th>order_status</th></tr>\n",
              "<tr><td>1</td><td>2013-07-25</td><td>11599</td><td>CLOSED</td></tr>\n",
              "<tr><td>2</td><td>2013-07-25</td><td>256</td><td>PENDING_PAYMENT</td></tr>\n",
              "<tr><td>3</td><td>2013-07-25</td><td>12111</td><td>COMPLETE</td></tr>\n",
              "<tr><td>4</td><td>2013-07-25</td><td>8827</td><td>CLOSED</td></tr>\n",
              "<tr><td>5</td><td>2013-07-25</td><td>11318</td><td>COMPLETE</td></tr>\n",
              "<tr><td>6</td><td>2013-07-25</td><td>7130</td><td>COMPLETE</td></tr>\n",
              "<tr><td>7</td><td>2013-07-25</td><td>4530</td><td>COMPLETE</td></tr>\n",
              "<tr><td>8</td><td>2013-07-25</td><td>2911</td><td>PROCESSING</td></tr>\n",
              "<tr><td>9</td><td>2013-07-25</td><td>5657</td><td>PENDING_PAYMENT</td></tr>\n",
              "<tr><td>10</td><td>2013-07-25</td><td>5648</td><td>PENDING_PAYMENT</td></tr>\n",
              "<tr><td>11</td><td>2013-07-25</td><td>918</td><td>PAYMENT_REVIEW</td></tr>\n",
              "<tr><td>12</td><td>2013-07-25</td><td>1837</td><td>CLOSED</td></tr>\n",
              "<tr><td>13</td><td>2013-07-25</td><td>9149</td><td>PENDING_PAYMENT</td></tr>\n",
              "<tr><td>14</td><td>2013-07-25</td><td>9842</td><td>PROCESSING</td></tr>\n",
              "<tr><td>15</td><td>2013-07-25</td><td>2568</td><td>COMPLETE</td></tr>\n",
              "<tr><td>16</td><td>2013-07-25</td><td>7276</td><td>PENDING_PAYMENT</td></tr>\n",
              "<tr><td>17</td><td>2013-07-25</td><td>2667</td><td>COMPLETE</td></tr>\n",
              "<tr><td>18</td><td>2013-07-25</td><td>1205</td><td>CLOSED</td></tr>\n",
              "<tr><td>19</td><td>2013-07-25</td><td>9488</td><td>PENDING_PAYMENT</td></tr>\n",
              "<tr><td>20</td><td>2013-07-25</td><td>9198</td><td>PROCESSING</td></tr>\n",
              "</table>\n",
              "only showing top 20 rows\n"
            ]
          },
          "metadata": {},
          "execution_count": 11
        }
      ]
    },
    {
      "cell_type": "code",
      "source": [
        "from pyspark.sql.functions import count, col"
      ],
      "metadata": {
        "id": "PUM7F_XAV6O6"
      },
      "execution_count": null,
      "outputs": []
    },
    {
      "cell_type": "markdown",
      "source": [
        "## Filter"
      ],
      "metadata": {
        "id": "6uT4UdU6WMqg"
      }
    },
    {
      "cell_type": "code",
      "source": [
        "# Igual a query de pandas\n",
        "# SELECT * FROM df WHERE order_status = 'COMPLETE'\n",
        "df.filter(\"order_status = 'COMPLETE'\")"
      ],
      "metadata": {
        "colab": {
          "base_uri": "https://localhost:8080/",
          "height": 529
        },
        "id": "OTa8WgR0YFX2",
        "outputId": "7212af25-a9bf-419c-8935-a17b12f6275c"
      },
      "execution_count": null,
      "outputs": [
        {
          "output_type": "execute_result",
          "data": {
            "text/plain": [
              "+--------+----------+-----------------+------------+\n",
              "|order_id|order_date|order_customer_id|order_status|\n",
              "+--------+----------+-----------------+------------+\n",
              "|       3|2013-07-25|            12111|    COMPLETE|\n",
              "|       5|2013-07-25|            11318|    COMPLETE|\n",
              "|       6|2013-07-25|             7130|    COMPLETE|\n",
              "|       7|2013-07-25|             4530|    COMPLETE|\n",
              "|      15|2013-07-25|             2568|    COMPLETE|\n",
              "|      17|2013-07-25|             2667|    COMPLETE|\n",
              "|      22|2013-07-25|              333|    COMPLETE|\n",
              "|      26|2013-07-25|             7562|    COMPLETE|\n",
              "|      28|2013-07-25|              656|    COMPLETE|\n",
              "|      32|2013-07-25|             3960|    COMPLETE|\n",
              "|      35|2013-07-25|             4840|    COMPLETE|\n",
              "|      45|2013-07-25|             2636|    COMPLETE|\n",
              "|      56|2013-07-25|            10519|    COMPLETE|\n",
              "|      63|2013-07-25|             1148|    COMPLETE|\n",
              "|      65|2013-07-25|             5903|    COMPLETE|\n",
              "|      67|2013-07-25|             1406|    COMPLETE|\n",
              "|      71|2013-07-25|             8646|    COMPLETE|\n",
              "|      72|2013-07-25|             4349|    COMPLETE|\n",
              "|      76|2013-07-25|             6898|    COMPLETE|\n",
              "|      80|2013-07-25|             3007|    COMPLETE|\n",
              "+--------+----------+-----------------+------------+\n",
              "only showing top 20 rows"
            ],
            "text/html": [
              "<table border='1'>\n",
              "<tr><th>order_id</th><th>order_date</th><th>order_customer_id</th><th>order_status</th></tr>\n",
              "<tr><td>3</td><td>2013-07-25</td><td>12111</td><td>COMPLETE</td></tr>\n",
              "<tr><td>5</td><td>2013-07-25</td><td>11318</td><td>COMPLETE</td></tr>\n",
              "<tr><td>6</td><td>2013-07-25</td><td>7130</td><td>COMPLETE</td></tr>\n",
              "<tr><td>7</td><td>2013-07-25</td><td>4530</td><td>COMPLETE</td></tr>\n",
              "<tr><td>15</td><td>2013-07-25</td><td>2568</td><td>COMPLETE</td></tr>\n",
              "<tr><td>17</td><td>2013-07-25</td><td>2667</td><td>COMPLETE</td></tr>\n",
              "<tr><td>22</td><td>2013-07-25</td><td>333</td><td>COMPLETE</td></tr>\n",
              "<tr><td>26</td><td>2013-07-25</td><td>7562</td><td>COMPLETE</td></tr>\n",
              "<tr><td>28</td><td>2013-07-25</td><td>656</td><td>COMPLETE</td></tr>\n",
              "<tr><td>32</td><td>2013-07-25</td><td>3960</td><td>COMPLETE</td></tr>\n",
              "<tr><td>35</td><td>2013-07-25</td><td>4840</td><td>COMPLETE</td></tr>\n",
              "<tr><td>45</td><td>2013-07-25</td><td>2636</td><td>COMPLETE</td></tr>\n",
              "<tr><td>56</td><td>2013-07-25</td><td>10519</td><td>COMPLETE</td></tr>\n",
              "<tr><td>63</td><td>2013-07-25</td><td>1148</td><td>COMPLETE</td></tr>\n",
              "<tr><td>65</td><td>2013-07-25</td><td>5903</td><td>COMPLETE</td></tr>\n",
              "<tr><td>67</td><td>2013-07-25</td><td>1406</td><td>COMPLETE</td></tr>\n",
              "<tr><td>71</td><td>2013-07-25</td><td>8646</td><td>COMPLETE</td></tr>\n",
              "<tr><td>72</td><td>2013-07-25</td><td>4349</td><td>COMPLETE</td></tr>\n",
              "<tr><td>76</td><td>2013-07-25</td><td>6898</td><td>COMPLETE</td></tr>\n",
              "<tr><td>80</td><td>2013-07-25</td><td>3007</td><td>COMPLETE</td></tr>\n",
              "</table>\n",
              "only showing top 20 rows\n"
            ]
          },
          "metadata": {},
          "execution_count": 13
        }
      ]
    },
    {
      "cell_type": "code",
      "source": [
        "# Como agregar multiples sobre una tabla\n",
        "df.filter(\"date_format(order_date, 'yyyyMM') = 201401 AND order_status IN ('COMPLETE', 'CLOSED')\")"
      ],
      "metadata": {
        "colab": {
          "base_uri": "https://localhost:8080/",
          "height": 529
        },
        "id": "iHbo4PrTYs1J",
        "outputId": "9ce4d506-fa7f-415f-ac93-c05e2bc8c459"
      },
      "execution_count": null,
      "outputs": [
        {
          "output_type": "execute_result",
          "data": {
            "text/plain": [
              "+--------+----------+-----------------+------------+\n",
              "|order_id|order_date|order_customer_id|order_status|\n",
              "+--------+----------+-----------------+------------+\n",
              "|   25882|2014-01-01|             4598|    COMPLETE|\n",
              "|   25888|2014-01-01|             6735|    COMPLETE|\n",
              "|   25889|2014-01-01|            10045|    COMPLETE|\n",
              "|   25891|2014-01-01|             3037|      CLOSED|\n",
              "|   25895|2014-01-01|             1044|    COMPLETE|\n",
              "|   25897|2014-01-01|             6405|    COMPLETE|\n",
              "|   25898|2014-01-01|             3950|    COMPLETE|\n",
              "|   25899|2014-01-01|             8068|      CLOSED|\n",
              "|   25900|2014-01-01|             2382|      CLOSED|\n",
              "|   25901|2014-01-01|             3099|    COMPLETE|\n",
              "|   25902|2014-01-01|             6083|    COMPLETE|\n",
              "|   25907|2014-01-01|             3603|    COMPLETE|\n",
              "|   25913|2014-01-01|             9382|    COMPLETE|\n",
              "|   25914|2014-01-01|             9288|    COMPLETE|\n",
              "|   25915|2014-01-01|             2963|    COMPLETE|\n",
              "|   25916|2014-01-01|             3219|    COMPLETE|\n",
              "|   25918|2014-01-01|              279|    COMPLETE|\n",
              "|   25919|2014-01-01|             3052|    COMPLETE|\n",
              "|   25920|2014-01-01|            12232|    COMPLETE|\n",
              "|   25921|2014-01-01|            12373|    COMPLETE|\n",
              "+--------+----------+-----------------+------------+\n",
              "only showing top 20 rows"
            ],
            "text/html": [
              "<table border='1'>\n",
              "<tr><th>order_id</th><th>order_date</th><th>order_customer_id</th><th>order_status</th></tr>\n",
              "<tr><td>25882</td><td>2014-01-01</td><td>4598</td><td>COMPLETE</td></tr>\n",
              "<tr><td>25888</td><td>2014-01-01</td><td>6735</td><td>COMPLETE</td></tr>\n",
              "<tr><td>25889</td><td>2014-01-01</td><td>10045</td><td>COMPLETE</td></tr>\n",
              "<tr><td>25891</td><td>2014-01-01</td><td>3037</td><td>CLOSED</td></tr>\n",
              "<tr><td>25895</td><td>2014-01-01</td><td>1044</td><td>COMPLETE</td></tr>\n",
              "<tr><td>25897</td><td>2014-01-01</td><td>6405</td><td>COMPLETE</td></tr>\n",
              "<tr><td>25898</td><td>2014-01-01</td><td>3950</td><td>COMPLETE</td></tr>\n",
              "<tr><td>25899</td><td>2014-01-01</td><td>8068</td><td>CLOSED</td></tr>\n",
              "<tr><td>25900</td><td>2014-01-01</td><td>2382</td><td>CLOSED</td></tr>\n",
              "<tr><td>25901</td><td>2014-01-01</td><td>3099</td><td>COMPLETE</td></tr>\n",
              "<tr><td>25902</td><td>2014-01-01</td><td>6083</td><td>COMPLETE</td></tr>\n",
              "<tr><td>25907</td><td>2014-01-01</td><td>3603</td><td>COMPLETE</td></tr>\n",
              "<tr><td>25913</td><td>2014-01-01</td><td>9382</td><td>COMPLETE</td></tr>\n",
              "<tr><td>25914</td><td>2014-01-01</td><td>9288</td><td>COMPLETE</td></tr>\n",
              "<tr><td>25915</td><td>2014-01-01</td><td>2963</td><td>COMPLETE</td></tr>\n",
              "<tr><td>25916</td><td>2014-01-01</td><td>3219</td><td>COMPLETE</td></tr>\n",
              "<tr><td>25918</td><td>2014-01-01</td><td>279</td><td>COMPLETE</td></tr>\n",
              "<tr><td>25919</td><td>2014-01-01</td><td>3052</td><td>COMPLETE</td></tr>\n",
              "<tr><td>25920</td><td>2014-01-01</td><td>12232</td><td>COMPLETE</td></tr>\n",
              "<tr><td>25921</td><td>2014-01-01</td><td>12373</td><td>COMPLETE</td></tr>\n",
              "</table>\n",
              "only showing top 20 rows\n"
            ]
          },
          "metadata": {},
          "execution_count": 15
        }
      ]
    },
    {
      "cell_type": "code",
      "source": [
        "df.\\\n",
        "  groupBy('order_status').\\\n",
        "    agg(count('order_id').alias('order_count')).\\\n",
        "      orderBy(col('order_count').desc())"
      ],
      "metadata": {
        "colab": {
          "base_uri": "https://localhost:8080/",
          "height": 255
        },
        "id": "CieyPia5au6p",
        "outputId": "eaf7a7df-2b5a-479c-97ad-b9ae615b5810"
      },
      "execution_count": null,
      "outputs": [
        {
          "output_type": "execute_result",
          "data": {
            "text/plain": [
              "+---------------+-----------+\n",
              "|   order_status|order_count|\n",
              "+---------------+-----------+\n",
              "|       COMPLETE|      22899|\n",
              "|PENDING_PAYMENT|      15030|\n",
              "|     PROCESSING|       8275|\n",
              "|        PENDING|       7610|\n",
              "|         CLOSED|       7556|\n",
              "|        ON_HOLD|       3798|\n",
              "|SUSPECTED_FRAUD|       1558|\n",
              "|       CANCELED|       1428|\n",
              "| PAYMENT_REVIEW|        729|\n",
              "+---------------+-----------+"
            ],
            "text/html": [
              "<table border='1'>\n",
              "<tr><th>order_status</th><th>order_count</th></tr>\n",
              "<tr><td>COMPLETE</td><td>22899</td></tr>\n",
              "<tr><td>PENDING_PAYMENT</td><td>15030</td></tr>\n",
              "<tr><td>PROCESSING</td><td>8275</td></tr>\n",
              "<tr><td>PENDING</td><td>7610</td></tr>\n",
              "<tr><td>CLOSED</td><td>7556</td></tr>\n",
              "<tr><td>ON_HOLD</td><td>3798</td></tr>\n",
              "<tr><td>SUSPECTED_FRAUD</td><td>1558</td></tr>\n",
              "<tr><td>CANCELED</td><td>1428</td></tr>\n",
              "<tr><td>PAYMENT_REVIEW</td><td>729</td></tr>\n",
              "</table>\n"
            ]
          },
          "metadata": {},
          "execution_count": 21
        }
      ]
    },
    {
      "cell_type": "markdown",
      "source": [
        "# Join data"
      ],
      "metadata": {
        "id": "M9KaoUK0byod"
      }
    },
    {
      "cell_type": "code",
      "source": [
        "# Leyendo csv, y definiendo el tipo de datos y el nombre de columnas con el comando schema\n",
        "orders_df = spark.read.csv(f'{base_dir}/orders', schema='order_id INT, order_date DATE, order_customer_id INT, order_status STRING')"
      ],
      "metadata": {
        "id": "z-xd7e6UJfq6"
      },
      "execution_count": 14,
      "outputs": []
    },
    {
      "cell_type": "code",
      "source": [
        "# Leyendo csv, y definiendo el tipo de datos y el nombre de columnas con el comando schema\n",
        "orders_item_df = spark.read.csv(f'{base_dir}/order_items',\n",
        "                                schema='''\n",
        "                                order_item_id INT, order_item_order_id INT, order_item_product_id INT,\n",
        "                                 order_item_quality INT, order_item_subtotal FLOAT, order_item_product_price FLOAT\n",
        "                                 ''')"
      ],
      "metadata": {
        "id": "Hhk8a8sHJy8q"
      },
      "execution_count": 15,
      "outputs": []
    },
    {
      "cell_type": "code",
      "source": [
        "orders_item_df"
      ],
      "metadata": {
        "colab": {
          "base_uri": "https://localhost:8080/",
          "height": 529
        },
        "id": "_zEmg3svLULC",
        "outputId": "ec1df39f-41b9-4025-fa18-05c8f1bb8646"
      },
      "execution_count": 16,
      "outputs": [
        {
          "output_type": "execute_result",
          "data": {
            "text/plain": [
              "+-------------+-------------------+---------------------+------------------+-------------------+------------------------+\n",
              "|order_item_id|order_item_order_id|order_item_product_id|order_item_quality|order_item_subtotal|order_item_product_price|\n",
              "+-------------+-------------------+---------------------+------------------+-------------------+------------------------+\n",
              "|            1|                  1|                  957|                 1|             299.98|                  299.98|\n",
              "|            2|                  2|                 1073|                 1|             199.99|                  199.99|\n",
              "|            3|                  2|                  502|                 5|              250.0|                    50.0|\n",
              "|            4|                  2|                  403|                 1|             129.99|                  129.99|\n",
              "|            5|                  4|                  897|                 2|              49.98|                   24.99|\n",
              "|            6|                  4|                  365|                 5|             299.95|                   59.99|\n",
              "|            7|                  4|                  502|                 3|              150.0|                    50.0|\n",
              "|            8|                  4|                 1014|                 4|             199.92|                   49.98|\n",
              "|            9|                  5|                  957|                 1|             299.98|                  299.98|\n",
              "|           10|                  5|                  365|                 5|             299.95|                   59.99|\n",
              "|           11|                  5|                 1014|                 2|              99.96|                   49.98|\n",
              "|           12|                  5|                  957|                 1|             299.98|                  299.98|\n",
              "|           13|                  5|                  403|                 1|             129.99|                  129.99|\n",
              "|           14|                  7|                 1073|                 1|             199.99|                  199.99|\n",
              "|           15|                  7|                  957|                 1|             299.98|                  299.98|\n",
              "|           16|                  7|                  926|                 5|              79.95|                   15.99|\n",
              "|           17|                  8|                  365|                 3|             179.97|                   59.99|\n",
              "|           18|                  8|                  365|                 5|             299.95|                   59.99|\n",
              "|           19|                  8|                 1014|                 4|             199.92|                   49.98|\n",
              "|           20|                  8|                  502|                 1|               50.0|                    50.0|\n",
              "+-------------+-------------------+---------------------+------------------+-------------------+------------------------+\n",
              "only showing top 20 rows"
            ],
            "text/html": [
              "<table border='1'>\n",
              "<tr><th>order_item_id</th><th>order_item_order_id</th><th>order_item_product_id</th><th>order_item_quality</th><th>order_item_subtotal</th><th>order_item_product_price</th></tr>\n",
              "<tr><td>1</td><td>1</td><td>957</td><td>1</td><td>299.98</td><td>299.98</td></tr>\n",
              "<tr><td>2</td><td>2</td><td>1073</td><td>1</td><td>199.99</td><td>199.99</td></tr>\n",
              "<tr><td>3</td><td>2</td><td>502</td><td>5</td><td>250.0</td><td>50.0</td></tr>\n",
              "<tr><td>4</td><td>2</td><td>403</td><td>1</td><td>129.99</td><td>129.99</td></tr>\n",
              "<tr><td>5</td><td>4</td><td>897</td><td>2</td><td>49.98</td><td>24.99</td></tr>\n",
              "<tr><td>6</td><td>4</td><td>365</td><td>5</td><td>299.95</td><td>59.99</td></tr>\n",
              "<tr><td>7</td><td>4</td><td>502</td><td>3</td><td>150.0</td><td>50.0</td></tr>\n",
              "<tr><td>8</td><td>4</td><td>1014</td><td>4</td><td>199.92</td><td>49.98</td></tr>\n",
              "<tr><td>9</td><td>5</td><td>957</td><td>1</td><td>299.98</td><td>299.98</td></tr>\n",
              "<tr><td>10</td><td>5</td><td>365</td><td>5</td><td>299.95</td><td>59.99</td></tr>\n",
              "<tr><td>11</td><td>5</td><td>1014</td><td>2</td><td>99.96</td><td>49.98</td></tr>\n",
              "<tr><td>12</td><td>5</td><td>957</td><td>1</td><td>299.98</td><td>299.98</td></tr>\n",
              "<tr><td>13</td><td>5</td><td>403</td><td>1</td><td>129.99</td><td>129.99</td></tr>\n",
              "<tr><td>14</td><td>7</td><td>1073</td><td>1</td><td>199.99</td><td>199.99</td></tr>\n",
              "<tr><td>15</td><td>7</td><td>957</td><td>1</td><td>299.98</td><td>299.98</td></tr>\n",
              "<tr><td>16</td><td>7</td><td>926</td><td>5</td><td>79.95</td><td>15.99</td></tr>\n",
              "<tr><td>17</td><td>8</td><td>365</td><td>3</td><td>179.97</td><td>59.99</td></tr>\n",
              "<tr><td>18</td><td>8</td><td>365</td><td>5</td><td>299.95</td><td>59.99</td></tr>\n",
              "<tr><td>19</td><td>8</td><td>1014</td><td>4</td><td>199.92</td><td>49.98</td></tr>\n",
              "<tr><td>20</td><td>8</td><td>502</td><td>1</td><td>50.0</td><td>50.0</td></tr>\n",
              "</table>\n",
              "only showing top 20 rows\n"
            ]
          },
          "metadata": {},
          "execution_count": 16
        }
      ]
    },
    {
      "cell_type": "code",
      "source": [
        "# inner join\n",
        "orders_df.join(orders_item_df, orders_df['order_id'] == orders_item_df['order_item_order_id'])"
      ],
      "metadata": {
        "colab": {
          "base_uri": "https://localhost:8080/",
          "height": 529
        },
        "id": "bdUa-IMvLZQB",
        "outputId": "3e9b7eba-dfa0-4e97-fdbd-289cd5d72d06"
      },
      "execution_count": 18,
      "outputs": [
        {
          "output_type": "execute_result",
          "data": {
            "text/plain": [
              "+--------+----------+-----------------+---------------+-------------+-------------------+---------------------+------------------+-------------------+------------------------+\n",
              "|order_id|order_date|order_customer_id|   order_status|order_item_id|order_item_order_id|order_item_product_id|order_item_quality|order_item_subtotal|order_item_product_price|\n",
              "+--------+----------+-----------------+---------------+-------------+-------------------+---------------------+------------------+-------------------+------------------------+\n",
              "|       1|2013-07-25|            11599|         CLOSED|            1|                  1|                  957|                 1|             299.98|                  299.98|\n",
              "|       2|2013-07-25|              256|PENDING_PAYMENT|            2|                  2|                 1073|                 1|             199.99|                  199.99|\n",
              "|       2|2013-07-25|              256|PENDING_PAYMENT|            3|                  2|                  502|                 5|              250.0|                    50.0|\n",
              "|       2|2013-07-25|              256|PENDING_PAYMENT|            4|                  2|                  403|                 1|             129.99|                  129.99|\n",
              "|       4|2013-07-25|             8827|         CLOSED|            5|                  4|                  897|                 2|              49.98|                   24.99|\n",
              "|       4|2013-07-25|             8827|         CLOSED|            6|                  4|                  365|                 5|             299.95|                   59.99|\n",
              "|       4|2013-07-25|             8827|         CLOSED|            7|                  4|                  502|                 3|              150.0|                    50.0|\n",
              "|       4|2013-07-25|             8827|         CLOSED|            8|                  4|                 1014|                 4|             199.92|                   49.98|\n",
              "|       5|2013-07-25|            11318|       COMPLETE|            9|                  5|                  957|                 1|             299.98|                  299.98|\n",
              "|       5|2013-07-25|            11318|       COMPLETE|           10|                  5|                  365|                 5|             299.95|                   59.99|\n",
              "|       5|2013-07-25|            11318|       COMPLETE|           11|                  5|                 1014|                 2|              99.96|                   49.98|\n",
              "|       5|2013-07-25|            11318|       COMPLETE|           12|                  5|                  957|                 1|             299.98|                  299.98|\n",
              "|       5|2013-07-25|            11318|       COMPLETE|           13|                  5|                  403|                 1|             129.99|                  129.99|\n",
              "|       7|2013-07-25|             4530|       COMPLETE|           14|                  7|                 1073|                 1|             199.99|                  199.99|\n",
              "|       7|2013-07-25|             4530|       COMPLETE|           15|                  7|                  957|                 1|             299.98|                  299.98|\n",
              "|       7|2013-07-25|             4530|       COMPLETE|           16|                  7|                  926|                 5|              79.95|                   15.99|\n",
              "|       8|2013-07-25|             2911|     PROCESSING|           17|                  8|                  365|                 3|             179.97|                   59.99|\n",
              "|       8|2013-07-25|             2911|     PROCESSING|           18|                  8|                  365|                 5|             299.95|                   59.99|\n",
              "|       8|2013-07-25|             2911|     PROCESSING|           19|                  8|                 1014|                 4|             199.92|                   49.98|\n",
              "|       8|2013-07-25|             2911|     PROCESSING|           20|                  8|                  502|                 1|               50.0|                    50.0|\n",
              "+--------+----------+-----------------+---------------+-------------+-------------------+---------------------+------------------+-------------------+------------------------+\n",
              "only showing top 20 rows"
            ],
            "text/html": [
              "<table border='1'>\n",
              "<tr><th>order_id</th><th>order_date</th><th>order_customer_id</th><th>order_status</th><th>order_item_id</th><th>order_item_order_id</th><th>order_item_product_id</th><th>order_item_quality</th><th>order_item_subtotal</th><th>order_item_product_price</th></tr>\n",
              "<tr><td>1</td><td>2013-07-25</td><td>11599</td><td>CLOSED</td><td>1</td><td>1</td><td>957</td><td>1</td><td>299.98</td><td>299.98</td></tr>\n",
              "<tr><td>2</td><td>2013-07-25</td><td>256</td><td>PENDING_PAYMENT</td><td>2</td><td>2</td><td>1073</td><td>1</td><td>199.99</td><td>199.99</td></tr>\n",
              "<tr><td>2</td><td>2013-07-25</td><td>256</td><td>PENDING_PAYMENT</td><td>3</td><td>2</td><td>502</td><td>5</td><td>250.0</td><td>50.0</td></tr>\n",
              "<tr><td>2</td><td>2013-07-25</td><td>256</td><td>PENDING_PAYMENT</td><td>4</td><td>2</td><td>403</td><td>1</td><td>129.99</td><td>129.99</td></tr>\n",
              "<tr><td>4</td><td>2013-07-25</td><td>8827</td><td>CLOSED</td><td>5</td><td>4</td><td>897</td><td>2</td><td>49.98</td><td>24.99</td></tr>\n",
              "<tr><td>4</td><td>2013-07-25</td><td>8827</td><td>CLOSED</td><td>6</td><td>4</td><td>365</td><td>5</td><td>299.95</td><td>59.99</td></tr>\n",
              "<tr><td>4</td><td>2013-07-25</td><td>8827</td><td>CLOSED</td><td>7</td><td>4</td><td>502</td><td>3</td><td>150.0</td><td>50.0</td></tr>\n",
              "<tr><td>4</td><td>2013-07-25</td><td>8827</td><td>CLOSED</td><td>8</td><td>4</td><td>1014</td><td>4</td><td>199.92</td><td>49.98</td></tr>\n",
              "<tr><td>5</td><td>2013-07-25</td><td>11318</td><td>COMPLETE</td><td>9</td><td>5</td><td>957</td><td>1</td><td>299.98</td><td>299.98</td></tr>\n",
              "<tr><td>5</td><td>2013-07-25</td><td>11318</td><td>COMPLETE</td><td>10</td><td>5</td><td>365</td><td>5</td><td>299.95</td><td>59.99</td></tr>\n",
              "<tr><td>5</td><td>2013-07-25</td><td>11318</td><td>COMPLETE</td><td>11</td><td>5</td><td>1014</td><td>2</td><td>99.96</td><td>49.98</td></tr>\n",
              "<tr><td>5</td><td>2013-07-25</td><td>11318</td><td>COMPLETE</td><td>12</td><td>5</td><td>957</td><td>1</td><td>299.98</td><td>299.98</td></tr>\n",
              "<tr><td>5</td><td>2013-07-25</td><td>11318</td><td>COMPLETE</td><td>13</td><td>5</td><td>403</td><td>1</td><td>129.99</td><td>129.99</td></tr>\n",
              "<tr><td>7</td><td>2013-07-25</td><td>4530</td><td>COMPLETE</td><td>14</td><td>7</td><td>1073</td><td>1</td><td>199.99</td><td>199.99</td></tr>\n",
              "<tr><td>7</td><td>2013-07-25</td><td>4530</td><td>COMPLETE</td><td>15</td><td>7</td><td>957</td><td>1</td><td>299.98</td><td>299.98</td></tr>\n",
              "<tr><td>7</td><td>2013-07-25</td><td>4530</td><td>COMPLETE</td><td>16</td><td>7</td><td>926</td><td>5</td><td>79.95</td><td>15.99</td></tr>\n",
              "<tr><td>8</td><td>2013-07-25</td><td>2911</td><td>PROCESSING</td><td>17</td><td>8</td><td>365</td><td>3</td><td>179.97</td><td>59.99</td></tr>\n",
              "<tr><td>8</td><td>2013-07-25</td><td>2911</td><td>PROCESSING</td><td>18</td><td>8</td><td>365</td><td>5</td><td>299.95</td><td>59.99</td></tr>\n",
              "<tr><td>8</td><td>2013-07-25</td><td>2911</td><td>PROCESSING</td><td>19</td><td>8</td><td>1014</td><td>4</td><td>199.92</td><td>49.98</td></tr>\n",
              "<tr><td>8</td><td>2013-07-25</td><td>2911</td><td>PROCESSING</td><td>20</td><td>8</td><td>502</td><td>1</td><td>50.0</td><td>50.0</td></tr>\n",
              "</table>\n",
              "only showing top 20 rows\n"
            ]
          },
          "metadata": {},
          "execution_count": 18
        }
      ]
    },
    {
      "cell_type": "code",
      "source": [
        "from pyspark.sql.functions import count, col, sum, date_format, round"
      ],
      "metadata": {
        "id": "1BJl3KlORx1c"
      },
      "execution_count": 28,
      "outputs": []
    },
    {
      "cell_type": "code",
      "source": [
        "orders_df.\\\n",
        "  filter(\"order_status IN ('COMPLETE', 'CLOSED') AND date_format(order_date, 'yyyyMM') = 201401\").\\\n",
        "  join(orders_item_df, orders_df['order_id'] == orders_item_df['order_item_order_id']).\\\n",
        "  groupBy('order_date').\\\n",
        "  agg(round(sum('order_item_subtotal'), 2).alias('revenue'))"
      ],
      "metadata": {
        "colab": {
          "base_uri": "https://localhost:8080/",
          "height": 529
        },
        "id": "pGjuC_tBM2Hl",
        "outputId": "199e479d-8f97-4c58-b0ca-91f4355a7163"
      },
      "execution_count": 30,
      "outputs": [
        {
          "output_type": "execute_result",
          "data": {
            "text/plain": [
              "+----------+--------+\n",
              "|order_date| revenue|\n",
              "+----------+--------+\n",
              "|2014-01-24|33855.51|\n",
              "|2014-01-08|20812.66|\n",
              "|2014-01-05|59093.58|\n",
              "|2014-01-06|28852.45|\n",
              "|2014-01-03| 53080.1|\n",
              "|2014-01-12|41235.96|\n",
              "|2014-01-11|58913.51|\n",
              "|2014-01-28|38419.64|\n",
              "|2014-01-18| 32200.4|\n",
              "|2014-01-29|39289.22|\n",
              "|2014-01-10|52781.11|\n",
              "|2014-01-15|50622.14|\n",
              "|2014-01-26|29745.37|\n",
              "|2014-01-22|49359.94|\n",
              "|2014-01-21|56125.68|\n",
              "|2014-01-19| 41023.1|\n",
              "|2014-01-02| 21872.7|\n",
              "|2014-01-14|37722.19|\n",
              "|2014-01-20|43416.32|\n",
              "|2014-01-13|35398.77|\n",
              "+----------+--------+\n",
              "only showing top 20 rows"
            ],
            "text/html": [
              "<table border='1'>\n",
              "<tr><th>order_date</th><th>revenue</th></tr>\n",
              "<tr><td>2014-01-24</td><td>33855.51</td></tr>\n",
              "<tr><td>2014-01-08</td><td>20812.66</td></tr>\n",
              "<tr><td>2014-01-05</td><td>59093.58</td></tr>\n",
              "<tr><td>2014-01-06</td><td>28852.45</td></tr>\n",
              "<tr><td>2014-01-03</td><td>53080.1</td></tr>\n",
              "<tr><td>2014-01-12</td><td>41235.96</td></tr>\n",
              "<tr><td>2014-01-11</td><td>58913.51</td></tr>\n",
              "<tr><td>2014-01-28</td><td>38419.64</td></tr>\n",
              "<tr><td>2014-01-18</td><td>32200.4</td></tr>\n",
              "<tr><td>2014-01-29</td><td>39289.22</td></tr>\n",
              "<tr><td>2014-01-10</td><td>52781.11</td></tr>\n",
              "<tr><td>2014-01-15</td><td>50622.14</td></tr>\n",
              "<tr><td>2014-01-26</td><td>29745.37</td></tr>\n",
              "<tr><td>2014-01-22</td><td>49359.94</td></tr>\n",
              "<tr><td>2014-01-21</td><td>56125.68</td></tr>\n",
              "<tr><td>2014-01-19</td><td>41023.1</td></tr>\n",
              "<tr><td>2014-01-02</td><td>21872.7</td></tr>\n",
              "<tr><td>2014-01-14</td><td>37722.19</td></tr>\n",
              "<tr><td>2014-01-20</td><td>43416.32</td></tr>\n",
              "<tr><td>2014-01-13</td><td>35398.77</td></tr>\n",
              "</table>\n",
              "only showing top 20 rows\n"
            ]
          },
          "metadata": {},
          "execution_count": 30
        }
      ]
    },
    {
      "cell_type": "code",
      "source": [
        "# left join\n",
        "orders_df.join(orders_item_df, orders_df['order_id'] == orders_item_df['order_item_order_id'], 'left')"
      ],
      "metadata": {
        "colab": {
          "base_uri": "https://localhost:8080/",
          "height": 529
        },
        "id": "yOftl7s1RsFi",
        "outputId": "2aae8f8f-945e-4970-bf3d-1c667189d4a3"
      },
      "execution_count": 31,
      "outputs": [
        {
          "output_type": "execute_result",
          "data": {
            "text/plain": [
              "+--------+----------+-----------------+---------------+-------------+-------------------+---------------------+------------------+-------------------+------------------------+\n",
              "|order_id|order_date|order_customer_id|   order_status|order_item_id|order_item_order_id|order_item_product_id|order_item_quality|order_item_subtotal|order_item_product_price|\n",
              "+--------+----------+-----------------+---------------+-------------+-------------------+---------------------+------------------+-------------------+------------------------+\n",
              "|       1|2013-07-25|            11599|         CLOSED|            1|                  1|                  957|                 1|             299.98|                  299.98|\n",
              "|       2|2013-07-25|              256|PENDING_PAYMENT|            4|                  2|                  403|                 1|             129.99|                  129.99|\n",
              "|       2|2013-07-25|              256|PENDING_PAYMENT|            3|                  2|                  502|                 5|              250.0|                    50.0|\n",
              "|       2|2013-07-25|              256|PENDING_PAYMENT|            2|                  2|                 1073|                 1|             199.99|                  199.99|\n",
              "|       3|2013-07-25|            12111|       COMPLETE|         null|               null|                 null|              null|               null|                    null|\n",
              "|       4|2013-07-25|             8827|         CLOSED|            8|                  4|                 1014|                 4|             199.92|                   49.98|\n",
              "|       4|2013-07-25|             8827|         CLOSED|            7|                  4|                  502|                 3|              150.0|                    50.0|\n",
              "|       4|2013-07-25|             8827|         CLOSED|            6|                  4|                  365|                 5|             299.95|                   59.99|\n",
              "|       4|2013-07-25|             8827|         CLOSED|            5|                  4|                  897|                 2|              49.98|                   24.99|\n",
              "|       5|2013-07-25|            11318|       COMPLETE|           13|                  5|                  403|                 1|             129.99|                  129.99|\n",
              "|       5|2013-07-25|            11318|       COMPLETE|           12|                  5|                  957|                 1|             299.98|                  299.98|\n",
              "|       5|2013-07-25|            11318|       COMPLETE|           11|                  5|                 1014|                 2|              99.96|                   49.98|\n",
              "|       5|2013-07-25|            11318|       COMPLETE|           10|                  5|                  365|                 5|             299.95|                   59.99|\n",
              "|       5|2013-07-25|            11318|       COMPLETE|            9|                  5|                  957|                 1|             299.98|                  299.98|\n",
              "|       6|2013-07-25|             7130|       COMPLETE|         null|               null|                 null|              null|               null|                    null|\n",
              "|       7|2013-07-25|             4530|       COMPLETE|           16|                  7|                  926|                 5|              79.95|                   15.99|\n",
              "|       7|2013-07-25|             4530|       COMPLETE|           15|                  7|                  957|                 1|             299.98|                  299.98|\n",
              "|       7|2013-07-25|             4530|       COMPLETE|           14|                  7|                 1073|                 1|             199.99|                  199.99|\n",
              "|       8|2013-07-25|             2911|     PROCESSING|           20|                  8|                  502|                 1|               50.0|                    50.0|\n",
              "|       8|2013-07-25|             2911|     PROCESSING|           19|                  8|                 1014|                 4|             199.92|                   49.98|\n",
              "+--------+----------+-----------------+---------------+-------------+-------------------+---------------------+------------------+-------------------+------------------------+\n",
              "only showing top 20 rows"
            ],
            "text/html": [
              "<table border='1'>\n",
              "<tr><th>order_id</th><th>order_date</th><th>order_customer_id</th><th>order_status</th><th>order_item_id</th><th>order_item_order_id</th><th>order_item_product_id</th><th>order_item_quality</th><th>order_item_subtotal</th><th>order_item_product_price</th></tr>\n",
              "<tr><td>1</td><td>2013-07-25</td><td>11599</td><td>CLOSED</td><td>1</td><td>1</td><td>957</td><td>1</td><td>299.98</td><td>299.98</td></tr>\n",
              "<tr><td>2</td><td>2013-07-25</td><td>256</td><td>PENDING_PAYMENT</td><td>4</td><td>2</td><td>403</td><td>1</td><td>129.99</td><td>129.99</td></tr>\n",
              "<tr><td>2</td><td>2013-07-25</td><td>256</td><td>PENDING_PAYMENT</td><td>3</td><td>2</td><td>502</td><td>5</td><td>250.0</td><td>50.0</td></tr>\n",
              "<tr><td>2</td><td>2013-07-25</td><td>256</td><td>PENDING_PAYMENT</td><td>2</td><td>2</td><td>1073</td><td>1</td><td>199.99</td><td>199.99</td></tr>\n",
              "<tr><td>3</td><td>2013-07-25</td><td>12111</td><td>COMPLETE</td><td>null</td><td>null</td><td>null</td><td>null</td><td>null</td><td>null</td></tr>\n",
              "<tr><td>4</td><td>2013-07-25</td><td>8827</td><td>CLOSED</td><td>8</td><td>4</td><td>1014</td><td>4</td><td>199.92</td><td>49.98</td></tr>\n",
              "<tr><td>4</td><td>2013-07-25</td><td>8827</td><td>CLOSED</td><td>7</td><td>4</td><td>502</td><td>3</td><td>150.0</td><td>50.0</td></tr>\n",
              "<tr><td>4</td><td>2013-07-25</td><td>8827</td><td>CLOSED</td><td>6</td><td>4</td><td>365</td><td>5</td><td>299.95</td><td>59.99</td></tr>\n",
              "<tr><td>4</td><td>2013-07-25</td><td>8827</td><td>CLOSED</td><td>5</td><td>4</td><td>897</td><td>2</td><td>49.98</td><td>24.99</td></tr>\n",
              "<tr><td>5</td><td>2013-07-25</td><td>11318</td><td>COMPLETE</td><td>13</td><td>5</td><td>403</td><td>1</td><td>129.99</td><td>129.99</td></tr>\n",
              "<tr><td>5</td><td>2013-07-25</td><td>11318</td><td>COMPLETE</td><td>12</td><td>5</td><td>957</td><td>1</td><td>299.98</td><td>299.98</td></tr>\n",
              "<tr><td>5</td><td>2013-07-25</td><td>11318</td><td>COMPLETE</td><td>11</td><td>5</td><td>1014</td><td>2</td><td>99.96</td><td>49.98</td></tr>\n",
              "<tr><td>5</td><td>2013-07-25</td><td>11318</td><td>COMPLETE</td><td>10</td><td>5</td><td>365</td><td>5</td><td>299.95</td><td>59.99</td></tr>\n",
              "<tr><td>5</td><td>2013-07-25</td><td>11318</td><td>COMPLETE</td><td>9</td><td>5</td><td>957</td><td>1</td><td>299.98</td><td>299.98</td></tr>\n",
              "<tr><td>6</td><td>2013-07-25</td><td>7130</td><td>COMPLETE</td><td>null</td><td>null</td><td>null</td><td>null</td><td>null</td><td>null</td></tr>\n",
              "<tr><td>7</td><td>2013-07-25</td><td>4530</td><td>COMPLETE</td><td>16</td><td>7</td><td>926</td><td>5</td><td>79.95</td><td>15.99</td></tr>\n",
              "<tr><td>7</td><td>2013-07-25</td><td>4530</td><td>COMPLETE</td><td>15</td><td>7</td><td>957</td><td>1</td><td>299.98</td><td>299.98</td></tr>\n",
              "<tr><td>7</td><td>2013-07-25</td><td>4530</td><td>COMPLETE</td><td>14</td><td>7</td><td>1073</td><td>1</td><td>199.99</td><td>199.99</td></tr>\n",
              "<tr><td>8</td><td>2013-07-25</td><td>2911</td><td>PROCESSING</td><td>20</td><td>8</td><td>502</td><td>1</td><td>50.0</td><td>50.0</td></tr>\n",
              "<tr><td>8</td><td>2013-07-25</td><td>2911</td><td>PROCESSING</td><td>19</td><td>8</td><td>1014</td><td>4</td><td>199.92</td><td>49.98</td></tr>\n",
              "</table>\n",
              "only showing top 20 rows\n"
            ]
          },
          "metadata": {},
          "execution_count": 31
        }
      ]
    },
    {
      "cell_type": "code",
      "source": [
        "# right join\n",
        "orders_df.join(orders_item_df, orders_df['order_id'] == orders_item_df['order_item_order_id'], 'right')"
      ],
      "metadata": {
        "colab": {
          "base_uri": "https://localhost:8080/",
          "height": 529
        },
        "id": "vgqXhXlphmRK",
        "outputId": "989d8833-6586-4812-e869-15a682c2e818"
      },
      "execution_count": 32,
      "outputs": [
        {
          "output_type": "execute_result",
          "data": {
            "text/plain": [
              "+--------+----------+-----------------+---------------+-------------+-------------------+---------------------+------------------+-------------------+------------------------+\n",
              "|order_id|order_date|order_customer_id|   order_status|order_item_id|order_item_order_id|order_item_product_id|order_item_quality|order_item_subtotal|order_item_product_price|\n",
              "+--------+----------+-----------------+---------------+-------------+-------------------+---------------------+------------------+-------------------+------------------------+\n",
              "|       1|2013-07-25|            11599|         CLOSED|            1|                  1|                  957|                 1|             299.98|                  299.98|\n",
              "|       2|2013-07-25|              256|PENDING_PAYMENT|            2|                  2|                 1073|                 1|             199.99|                  199.99|\n",
              "|       2|2013-07-25|              256|PENDING_PAYMENT|            3|                  2|                  502|                 5|              250.0|                    50.0|\n",
              "|       2|2013-07-25|              256|PENDING_PAYMENT|            4|                  2|                  403|                 1|             129.99|                  129.99|\n",
              "|       4|2013-07-25|             8827|         CLOSED|            5|                  4|                  897|                 2|              49.98|                   24.99|\n",
              "|       4|2013-07-25|             8827|         CLOSED|            6|                  4|                  365|                 5|             299.95|                   59.99|\n",
              "|       4|2013-07-25|             8827|         CLOSED|            7|                  4|                  502|                 3|              150.0|                    50.0|\n",
              "|       4|2013-07-25|             8827|         CLOSED|            8|                  4|                 1014|                 4|             199.92|                   49.98|\n",
              "|       5|2013-07-25|            11318|       COMPLETE|            9|                  5|                  957|                 1|             299.98|                  299.98|\n",
              "|       5|2013-07-25|            11318|       COMPLETE|           10|                  5|                  365|                 5|             299.95|                   59.99|\n",
              "|       5|2013-07-25|            11318|       COMPLETE|           11|                  5|                 1014|                 2|              99.96|                   49.98|\n",
              "|       5|2013-07-25|            11318|       COMPLETE|           12|                  5|                  957|                 1|             299.98|                  299.98|\n",
              "|       5|2013-07-25|            11318|       COMPLETE|           13|                  5|                  403|                 1|             129.99|                  129.99|\n",
              "|       7|2013-07-25|             4530|       COMPLETE|           14|                  7|                 1073|                 1|             199.99|                  199.99|\n",
              "|       7|2013-07-25|             4530|       COMPLETE|           15|                  7|                  957|                 1|             299.98|                  299.98|\n",
              "|       7|2013-07-25|             4530|       COMPLETE|           16|                  7|                  926|                 5|              79.95|                   15.99|\n",
              "|       8|2013-07-25|             2911|     PROCESSING|           17|                  8|                  365|                 3|             179.97|                   59.99|\n",
              "|       8|2013-07-25|             2911|     PROCESSING|           18|                  8|                  365|                 5|             299.95|                   59.99|\n",
              "|       8|2013-07-25|             2911|     PROCESSING|           19|                  8|                 1014|                 4|             199.92|                   49.98|\n",
              "|       8|2013-07-25|             2911|     PROCESSING|           20|                  8|                  502|                 1|               50.0|                    50.0|\n",
              "+--------+----------+-----------------+---------------+-------------+-------------------+---------------------+------------------+-------------------+------------------------+\n",
              "only showing top 20 rows"
            ],
            "text/html": [
              "<table border='1'>\n",
              "<tr><th>order_id</th><th>order_date</th><th>order_customer_id</th><th>order_status</th><th>order_item_id</th><th>order_item_order_id</th><th>order_item_product_id</th><th>order_item_quality</th><th>order_item_subtotal</th><th>order_item_product_price</th></tr>\n",
              "<tr><td>1</td><td>2013-07-25</td><td>11599</td><td>CLOSED</td><td>1</td><td>1</td><td>957</td><td>1</td><td>299.98</td><td>299.98</td></tr>\n",
              "<tr><td>2</td><td>2013-07-25</td><td>256</td><td>PENDING_PAYMENT</td><td>2</td><td>2</td><td>1073</td><td>1</td><td>199.99</td><td>199.99</td></tr>\n",
              "<tr><td>2</td><td>2013-07-25</td><td>256</td><td>PENDING_PAYMENT</td><td>3</td><td>2</td><td>502</td><td>5</td><td>250.0</td><td>50.0</td></tr>\n",
              "<tr><td>2</td><td>2013-07-25</td><td>256</td><td>PENDING_PAYMENT</td><td>4</td><td>2</td><td>403</td><td>1</td><td>129.99</td><td>129.99</td></tr>\n",
              "<tr><td>4</td><td>2013-07-25</td><td>8827</td><td>CLOSED</td><td>5</td><td>4</td><td>897</td><td>2</td><td>49.98</td><td>24.99</td></tr>\n",
              "<tr><td>4</td><td>2013-07-25</td><td>8827</td><td>CLOSED</td><td>6</td><td>4</td><td>365</td><td>5</td><td>299.95</td><td>59.99</td></tr>\n",
              "<tr><td>4</td><td>2013-07-25</td><td>8827</td><td>CLOSED</td><td>7</td><td>4</td><td>502</td><td>3</td><td>150.0</td><td>50.0</td></tr>\n",
              "<tr><td>4</td><td>2013-07-25</td><td>8827</td><td>CLOSED</td><td>8</td><td>4</td><td>1014</td><td>4</td><td>199.92</td><td>49.98</td></tr>\n",
              "<tr><td>5</td><td>2013-07-25</td><td>11318</td><td>COMPLETE</td><td>9</td><td>5</td><td>957</td><td>1</td><td>299.98</td><td>299.98</td></tr>\n",
              "<tr><td>5</td><td>2013-07-25</td><td>11318</td><td>COMPLETE</td><td>10</td><td>5</td><td>365</td><td>5</td><td>299.95</td><td>59.99</td></tr>\n",
              "<tr><td>5</td><td>2013-07-25</td><td>11318</td><td>COMPLETE</td><td>11</td><td>5</td><td>1014</td><td>2</td><td>99.96</td><td>49.98</td></tr>\n",
              "<tr><td>5</td><td>2013-07-25</td><td>11318</td><td>COMPLETE</td><td>12</td><td>5</td><td>957</td><td>1</td><td>299.98</td><td>299.98</td></tr>\n",
              "<tr><td>5</td><td>2013-07-25</td><td>11318</td><td>COMPLETE</td><td>13</td><td>5</td><td>403</td><td>1</td><td>129.99</td><td>129.99</td></tr>\n",
              "<tr><td>7</td><td>2013-07-25</td><td>4530</td><td>COMPLETE</td><td>14</td><td>7</td><td>1073</td><td>1</td><td>199.99</td><td>199.99</td></tr>\n",
              "<tr><td>7</td><td>2013-07-25</td><td>4530</td><td>COMPLETE</td><td>15</td><td>7</td><td>957</td><td>1</td><td>299.98</td><td>299.98</td></tr>\n",
              "<tr><td>7</td><td>2013-07-25</td><td>4530</td><td>COMPLETE</td><td>16</td><td>7</td><td>926</td><td>5</td><td>79.95</td><td>15.99</td></tr>\n",
              "<tr><td>8</td><td>2013-07-25</td><td>2911</td><td>PROCESSING</td><td>17</td><td>8</td><td>365</td><td>3</td><td>179.97</td><td>59.99</td></tr>\n",
              "<tr><td>8</td><td>2013-07-25</td><td>2911</td><td>PROCESSING</td><td>18</td><td>8</td><td>365</td><td>5</td><td>299.95</td><td>59.99</td></tr>\n",
              "<tr><td>8</td><td>2013-07-25</td><td>2911</td><td>PROCESSING</td><td>19</td><td>8</td><td>1014</td><td>4</td><td>199.92</td><td>49.98</td></tr>\n",
              "<tr><td>8</td><td>2013-07-25</td><td>2911</td><td>PROCESSING</td><td>20</td><td>8</td><td>502</td><td>1</td><td>50.0</td><td>50.0</td></tr>\n",
              "</table>\n",
              "only showing top 20 rows\n"
            ]
          },
          "metadata": {},
          "execution_count": 32
        }
      ]
    },
    {
      "cell_type": "markdown",
      "source": [
        "# Rank"
      ],
      "metadata": {
        "id": "9xVHutv-iV_q"
      }
    },
    {
      "cell_type": "code",
      "source": [
        "from pyspark.sql.functions import count, col, sum, date_format, round, dense_rank\n",
        "from pyspark.sql.window import Window"
      ],
      "metadata": {
        "id": "LAdrnayHkB4w"
      },
      "execution_count": 36,
      "outputs": []
    },
    {
      "cell_type": "code",
      "source": [
        "# Como agregar multiples sobre una tabla\n",
        "df.filter(\"date_format(order_date, 'yyyyMM') = 201401 AND order_status IN ('COMPLETE', 'CLOSED')\").\\\n",
        "  withColumn('rank', dense_rank().over(Window.orderBy(col('order_date').desc())))"
      ],
      "metadata": {
        "colab": {
          "base_uri": "https://localhost:8080/",
          "height": 529
        },
        "id": "XVTXDWGwkKHI",
        "outputId": "f1e28165-c1f6-4243-b3b5-f92034e97146"
      },
      "execution_count": 39,
      "outputs": [
        {
          "output_type": "execute_result",
          "data": {
            "text/plain": [
              "+--------+----------+-----------------+------------+----+\n",
              "|order_id|order_date|order_customer_id|order_status|rank|\n",
              "+--------+----------+-----------------+------------+----+\n",
              "|   30583|2014-01-31|             3096|    COMPLETE|   1|\n",
              "|   30586|2014-01-31|             8171|    COMPLETE|   1|\n",
              "|   30592|2014-01-31|             5449|    COMPLETE|   1|\n",
              "|   30593|2014-01-31|             1209|    COMPLETE|   1|\n",
              "|   30597|2014-01-31|             1153|      CLOSED|   1|\n",
              "|   30599|2014-01-31|             4104|    COMPLETE|   1|\n",
              "|   30601|2014-01-31|             1656|      CLOSED|   1|\n",
              "|   30603|2014-01-31|              105|    COMPLETE|   1|\n",
              "|   30604|2014-01-31|             5615|    COMPLETE|   1|\n",
              "|   30607|2014-01-31|             9458|      CLOSED|   1|\n",
              "|   30608|2014-01-31|             8212|    COMPLETE|   1|\n",
              "|   30610|2014-01-31|            10734|    COMPLETE|   1|\n",
              "|   30613|2014-01-31|             2010|    COMPLETE|   1|\n",
              "|   30619|2014-01-31|             6846|    COMPLETE|   1|\n",
              "|   30620|2014-01-31|             6921|      CLOSED|   1|\n",
              "|   30621|2014-01-31|             5760|    COMPLETE|   1|\n",
              "|   30625|2014-01-31|             6729|    COMPLETE|   1|\n",
              "|   30627|2014-01-31|            11174|      CLOSED|   1|\n",
              "|   30628|2014-01-31|             8988|      CLOSED|   1|\n",
              "|   30630|2014-01-31|            11059|    COMPLETE|   1|\n",
              "+--------+----------+-----------------+------------+----+\n",
              "only showing top 20 rows"
            ],
            "text/html": [
              "<table border='1'>\n",
              "<tr><th>order_id</th><th>order_date</th><th>order_customer_id</th><th>order_status</th><th>rank</th></tr>\n",
              "<tr><td>30583</td><td>2014-01-31</td><td>3096</td><td>COMPLETE</td><td>1</td></tr>\n",
              "<tr><td>30586</td><td>2014-01-31</td><td>8171</td><td>COMPLETE</td><td>1</td></tr>\n",
              "<tr><td>30592</td><td>2014-01-31</td><td>5449</td><td>COMPLETE</td><td>1</td></tr>\n",
              "<tr><td>30593</td><td>2014-01-31</td><td>1209</td><td>COMPLETE</td><td>1</td></tr>\n",
              "<tr><td>30597</td><td>2014-01-31</td><td>1153</td><td>CLOSED</td><td>1</td></tr>\n",
              "<tr><td>30599</td><td>2014-01-31</td><td>4104</td><td>COMPLETE</td><td>1</td></tr>\n",
              "<tr><td>30601</td><td>2014-01-31</td><td>1656</td><td>CLOSED</td><td>1</td></tr>\n",
              "<tr><td>30603</td><td>2014-01-31</td><td>105</td><td>COMPLETE</td><td>1</td></tr>\n",
              "<tr><td>30604</td><td>2014-01-31</td><td>5615</td><td>COMPLETE</td><td>1</td></tr>\n",
              "<tr><td>30607</td><td>2014-01-31</td><td>9458</td><td>CLOSED</td><td>1</td></tr>\n",
              "<tr><td>30608</td><td>2014-01-31</td><td>8212</td><td>COMPLETE</td><td>1</td></tr>\n",
              "<tr><td>30610</td><td>2014-01-31</td><td>10734</td><td>COMPLETE</td><td>1</td></tr>\n",
              "<tr><td>30613</td><td>2014-01-31</td><td>2010</td><td>COMPLETE</td><td>1</td></tr>\n",
              "<tr><td>30619</td><td>2014-01-31</td><td>6846</td><td>COMPLETE</td><td>1</td></tr>\n",
              "<tr><td>30620</td><td>2014-01-31</td><td>6921</td><td>CLOSED</td><td>1</td></tr>\n",
              "<tr><td>30621</td><td>2014-01-31</td><td>5760</td><td>COMPLETE</td><td>1</td></tr>\n",
              "<tr><td>30625</td><td>2014-01-31</td><td>6729</td><td>COMPLETE</td><td>1</td></tr>\n",
              "<tr><td>30627</td><td>2014-01-31</td><td>11174</td><td>CLOSED</td><td>1</td></tr>\n",
              "<tr><td>30628</td><td>2014-01-31</td><td>8988</td><td>CLOSED</td><td>1</td></tr>\n",
              "<tr><td>30630</td><td>2014-01-31</td><td>11059</td><td>COMPLETE</td><td>1</td></tr>\n",
              "</table>\n",
              "only showing top 20 rows\n"
            ]
          },
          "metadata": {},
          "execution_count": 39
        }
      ]
    },
    {
      "cell_type": "code",
      "source": [
        "# rank con particion y ordenamiento\n",
        "df.filter(\"date_format(order_date, 'yyyyMM') = 201401 AND order_status IN ('COMPLETE', 'CLOSED')\").\\\n",
        "  withColumn('rank', dense_rank().over(Window.partitionBy('order_date').orderBy(col('order_status').desc())))"
      ],
      "metadata": {
        "id": "Uus2v75gljw1"
      },
      "execution_count": null,
      "outputs": []
    },
    {
      "cell_type": "code",
      "source": [
        "\n",
        "# rank con particion y ordenamiento. Separando expresiones\n",
        "spec = Window.partitionBy('order_date').orderBy(col('order_status').desc()))\n",
        "df.filter(\"date_format(order_date, 'yyyyMM') = 201401 AND order_status IN ('COMPLETE', 'CLOSED')\").\\\n",
        "  withColumn('rank', dense_rank(spec).over()"
      ],
      "metadata": {
        "id": "0W0B9kOM44xW"
      },
      "execution_count": null,
      "outputs": []
    }
  ]
}