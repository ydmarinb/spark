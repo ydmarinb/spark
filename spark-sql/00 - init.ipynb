{
 "cells": [
  {
   "cell_type": "code",
   "execution_count": null,
   "metadata": {},
   "outputs": [],
   "source": [
    "# Normalmente cuando se quiere ejecutar un proceso se usa\n",
    "spark.sql('SELECT current_date').show()"
   ]
  },
  {
   "cell_type": "code",
   "execution_count": null,
   "metadata": {},
   "outputs": [],
   "source": [
    "# Cuando trabajamos desde databrick es tan simple como usar un metodo magic y luego ejecutar el proceso\n",
    "%sql\n",
    "SELECT current_date"
   ]
  },
  {
   "cell_type": "code",
   "execution_count": null,
   "metadata": {},
   "outputs": [],
   "source": [
    "# Creando una tabla temporal\n",
    "%sql\n",
    "CREATE TEMPORARY VIEW db(\n",
    "    primary_key INT,\n",
    "    column1 INT,\n",
    "    column2 STRING,\n",
    ") USING CSV\n",
    "OPTIONS (\n",
    "    path='dbfs:/public/db_path'\n",
    ")"
   ]
  },
  {
   "cell_type": "code",
   "execution_count": null,
   "metadata": {},
   "outputs": [],
   "source": [
    "# Lectura de los datos crudos desde el archivo con notación SQL\n",
    "SELECT * FROM TEXT.´/public/db_path´  "
   ]
  },
  {
   "cell_type": "code",
   "execution_count": null,
   "metadata": {},
   "outputs": [],
   "source": [
    "# Cuando el separador es diferente a , podemos especificarlos usando la opción sep\n",
    "%sql\n",
    "CREATE TEMPORARY VIEW db(\n",
    "    primary_key INT,\n",
    "    column1 INT,\n",
    "    column2 STRING,\n",
    ") USING CSV\n",
    "OPTIONS (\n",
    "    path='dbfs:/public/db_path',\n",
    "    sep=';'\n",
    ")"
   ]
  },
  {
   "cell_type": "code",
   "execution_count": null,
   "metadata": {},
   "outputs": [],
   "source": [
    "# Consultar el esquema de la base de datos\n",
    "DESCRIBE db"
   ]
  },
  {
   "cell_type": "code",
   "execution_count": null,
   "metadata": {},
   "outputs": [],
   "source": [
    "# Guardar el resultado en DBFS en un archivo parquet\n",
    "\n",
    "INSERT OVERWRITE DIRECTORY 'dbfs:/public/db_path'\n",
    "USING PARQUET\n",
    "\n",
    "SELECT * FROM db1\n",
    "JOIN db1\n",
    "USING(KEY)\n"
   ]
  },
  {
   "cell_type": "code",
   "execution_count": null,
   "metadata": {},
   "outputs": [],
   "source": [
    "# Leer los datos directamente del archivo parquet\n",
    "SELECT * FROM PARQUET.´/public/db_path´  \n",
    "ORDER BY column1"
   ]
  },
  {
   "cell_type": "code",
   "execution_count": null,
   "metadata": {},
   "outputs": [],
   "source": []
  }
 ],
 "metadata": {
  "language_info": {
   "name": "python"
  },
  "orig_nbformat": 4
 },
 "nbformat": 4,
 "nbformat_minor": 2
}
