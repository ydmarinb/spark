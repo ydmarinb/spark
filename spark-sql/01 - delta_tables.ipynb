{
 "cells": [
  {
   "cell_type": "markdown",
   "metadata": {},
   "source": [
    "En este notebook *db* representa el nombre de una tabla generica."
   ]
  },
  {
   "cell_type": "code",
   "execution_count": null,
   "metadata": {},
   "outputs": [],
   "source": [
    "#Crear tabla en el formato delta\n",
    "\n",
    "CREATE TABLE db (\n",
    "    primary_key INT,\n",
    "    column1 DATE,\n",
    "    column2 STRING\n",
    ") USING DELTA # PARQUET, CSV, JSON\n"
   ]
  },
  {
   "cell_type": "code",
   "execution_count": null,
   "metadata": {},
   "outputs": [],
   "source": [
    "# Borrar tabla\n",
    "DROP DATABASE db CASCADE # Buscas que es cascada"
   ]
  },
  {
   "cell_type": "code",
   "execution_count": null,
   "metadata": {},
   "outputs": [],
   "source": [
    "# Definir el directorio de trabajo\n",
    "SET spark.sql.warehouse.dir # en data brick este seria dbfs:/user/hive/warehouse"
   ]
  },
  {
   "cell_type": "code",
   "execution_count": null,
   "metadata": {},
   "outputs": [],
   "source": [
    "# Crear una base de datos en una ruta especifica\n",
    "CREATE DATABASE IF NOT EXISTS table LOCATION 'dbfs:/public/warehouse/db_path.db'"
   ]
  },
  {
   "cell_type": "code",
   "execution_count": null,
   "metadata": {},
   "outputs": [],
   "source": [
    "# ver las primeras filas del archivo json\n",
    "%fs head dbfs:/public/file.json"
   ]
  },
  {
   "cell_type": "code",
   "execution_count": null,
   "metadata": {},
   "outputs": [],
   "source": [
    "# Llenar la tabla previamente creada con los datos en json crudo \n",
    "COPY INTO table\n",
    "FROM 'dbfs:/public/file.json'\n",
    "FILEFORMAT = JSON"
   ]
  },
  {
   "cell_type": "code",
   "execution_count": null,
   "metadata": {},
   "outputs": [],
   "source": [
    "# Otra form ade inserta datos\n",
    "INSERT INTO table\n",
    "SELECT * FROM JSON.´dbfs:/public/file.json´"
   ]
  },
  {
   "cell_type": "code",
   "execution_count": null,
   "metadata": {},
   "outputs": [],
   "source": [
    "# Especificar la base de datos a usar\n",
    "USE db"
   ]
  },
  {
   "cell_type": "code",
   "execution_count": null,
   "metadata": {},
   "outputs": [],
   "source": [
    "# conocer todas las tablas en la base de datos\n",
    "SHOW tables"
   ]
  },
  {
   "cell_type": "code",
   "execution_count": null,
   "metadata": {},
   "outputs": [],
   "source": [
    "# Conocer la metadata  de la tabla\n",
    "DESCRIBE FORMATTED db"
   ]
  }
 ],
 "metadata": {
  "kernelspec": {
   "display_name": "Python 3",
   "language": "python",
   "name": "python3"
  },
  "language_info": {
   "codemirror_mode": {
    "name": "ipython",
    "version": 3
   },
   "file_extension": ".py",
   "mimetype": "text/x-python",
   "name": "python",
   "nbconvert_exporter": "python",
   "pygments_lexer": "ipython3",
   "version": "3.11.0"
  },
  "orig_nbformat": 4
 },
 "nbformat": 4,
 "nbformat_minor": 2
}
