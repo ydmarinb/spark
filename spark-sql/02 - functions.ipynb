{
 "cells": [
  {
   "cell_type": "code",
   "execution_count": null,
   "metadata": {},
   "outputs": [],
   "source": [
    "%sql\n",
    "# Explorar todas las funciones disponibles en Spark SQL\n",
    "SHOW functions"
   ]
  },
  {
   "cell_type": "code",
   "execution_count": null,
   "metadata": {},
   "outputs": [],
   "source": [
    "%sql\n",
    "# Conocer los detalles de la funcion - documentacion, nombre_funcion \n",
    "DESCRIBE FUNCTION nombre_funcion"
   ]
  },
  {
   "cell_type": "markdown",
   "metadata": {},
   "source": [
    "No se dan mas detalles sobre spark sql porque simplementa apican las mismas funciones y procesos de Bigquery. Lo mas importante en esta herramienta es como funcionan sus procesos detras de escena."
   ]
  },
  {
   "cell_type": "markdown",
   "metadata": {},
   "source": []
  }
 ],
 "metadata": {
  "language_info": {
   "name": "python"
  },
  "orig_nbformat": 4
 },
 "nbformat": 4,
 "nbformat_minor": 2
}
